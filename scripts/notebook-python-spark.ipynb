{
 "cells": [
  {
   "cell_type": "code",
   "execution_count": null,
   "id": "b5e8516c-5ad6-4724-abae-80104274f8e4",
   "metadata": {
    "tags": []
   },
   "outputs": [],
   "source": [
    "import os\n",
    "import socket\n",
    "from pyspark import SparkContext, SparkConf\n",
    "from pyspark.sql import SparkSession\n",
    "\n",
    "# Create Spark config for our Kubernetes based cluster manager\n",
    "sparkConf = SparkConf()\n",
    "sparkConf.setMaster(\"k8s://https://kubernetes.default.svc.cluster.local:443\")\n",
    "sparkConf.setAppName(\"spark001\")\n",
    "sparkConf.set(\"spark.kubernetes.container.image\", \"angelmaroco/spark:3.2.0-hadoop-3.2-aws-sdk-1.12.132-python-3.8\")\n",
    "sparkConf.set(\"spark.kubernetes.namespace\", \"default\")\n",
    "sparkConf.set(\"spark.executor.instances\", \"3\")\n",
    "sparkConf.set(\"spark.executor.cores\", \"1\")\n",
    "sparkConf.set(\"spark.executor.memory\", \"1800m\")\n",
    "sparkConf.set(\"spark.submit.deployMode\",'client')\n",
    "sparkConf.set(\"spark.driver.cores\", \"1\")\n",
    "sparkConf.set(\"spark.driver.instances\", \"1\")\n",
    "sparkConf.set(\"spark.driver.blockManager.port\", \"7777\")\n",
    "sparkConf.set(\"spark.driver.port\", \"2222\")\n",
    "sparkConf.set(\"spark.driver.host\", socket.gethostbyname(socket.gethostname()))\n",
    "sparkConf.set(\"spark.driver.bindAddress\", \"0.0.0.0\")\n",
    "sparkConf.set(\"spark.kubernetes.node.selector.workload\", \"workload-low-cpu\")\n",
    "sparkConf.set(\"spark.kubernetes.pyspark.pythonVersion\", \"3\")\n",
    "sparkConf.set(\"spark.kubernetes.local.dirs.tmpfs\", \"true\")\n",
    "sparkConf.set(\"‍spark.dynamicAllocation.enabled\", \"true\")\n",
    "sparkConf.set(\"spark.dynamicAllocation.shuffleTracking.enabled\", \"true\")\n",
    "sparkConf.set(\"spark.dynamicAllocation.shuffleTracking.timeout\", \"120\")\n",
    "sparkConf.set(\"spark.dynamicAllocation.minExecutors\", \"1\")\n",
    "sparkConf.set(\"spark.dynamicAllocation.maxExecutors\", \"2\")\n",
    "sparkConf.set(\"spark.kubernetes.allocation.batch.size\", \"15\")\n",
    "sparkConf.set(\"spark.dynamicAllocation.executorAllocationRatio\", \"1\")\n",
    "sparkConf.set(\"spark.dynamicAllocation.schedulerBacklogTimeout\", \"1\")"
   ]
  },
  {
   "cell_type": "code",
   "execution_count": null,
   "id": "99f31275-4884-4d70-bd0a-182cfa852f54",
   "metadata": {
    "tags": []
   },
   "outputs": [],
   "source": [
    "# Initialize our Spark cluster, this will actually\n",
    "# generate the worker nodes.\n",
    "spark = SparkSession.builder.config(conf=sparkConf).getOrCreate()\n",
    "sc = spark.sparkContext\n",
    "\n",
    "from random import random\n",
    "from operator import add\n",
    "partitions = 30\n",
    "n = 1000 * partitions\n",
    "def f(_):\n",
    " x = random() * 2 - 1\n",
    " y = random() * 2 - 1\n",
    " \n",
    " return 1 if x ** 2 + y ** 2 <= 1 else 0\n",
    "count = sc.parallelize(range(1, n + 1), partitions).map(f).reduce(add)\n",
    "print(\"Pi is roughly %f\" % (4.0 * count / n))"
   ]
  },
  {
   "cell_type": "code",
   "execution_count": null,
   "id": "21d4704b-63ab-4f25-9f93-7a110f476621",
   "metadata": {
    "tags": []
   },
   "outputs": [],
   "source": [
    "sc.stop()"
   ]
  }
 ],
 "metadata": {
  "kernelspec": {
   "display_name": "Python 3 (ipykernel)",
   "language": "python",
   "name": "python3"
  },
  "language_info": {
   "codemirror_mode": {
    "name": "ipython",
    "version": 3
   },
   "file_extension": ".py",
   "mimetype": "text/x-python",
   "name": "python",
   "nbconvert_exporter": "python",
   "pygments_lexer": "ipython3",
   "version": "3.9.7"
  }
 },
 "nbformat": 4,
 "nbformat_minor": 5
}
